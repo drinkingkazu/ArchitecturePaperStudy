{
 "cells": [
  {
   "cell_type": "code",
   "execution_count": 6,
   "metadata": {
    "collapsed": true
   },
   "outputs": [],
   "source": [
    "import os\n",
    "import operator\n",
    "import pandas as pd\n",
    "import matplotlib.pyplot as plt\n",
    "import numpy as np\n",
    "from scipy import stats"
   ]
  },
  {
   "cell_type": "code",
   "execution_count": null,
   "metadata": {
    "collapsed": true
   },
   "outputs": [],
   "source": []
  },
  {
   "cell_type": "code",
   "execution_count": 10,
   "metadata": {
    "collapsed": true
   },
   "outputs": [],
   "source": [
    "# Define globals\n",
    "### network name <=> data file mapping\n",
    "_FILEMAP_={'vgg16a' : 'sp_vgg16a_iter_',\n",
    "           'vgg16b' : 'sp_vgg16b_iter_',\n",
    "           'vgg16c' : 'sp_vgg16c_iter_'\n",
    "#           'resnet14b'    : 'sp_resnet14b_iter_',\n",
    "#           'resnet14b_w4' : 'sp_resnet14b_w4_iter_',\n",
    "#           'resnet29b'    : 'sp_resnet29b_iter_',\n",
    "#           'resnet29b_w2' : 'sp_resnet29b_w2_iter_',\n",
    "#           'resnet29b_w4' : 'sp_resnet29b_w4_iter_',\n",
    "#           'resnet50b'    : 'sp_resnet50b_iter_',\n",
    "#           'plainresnet10b'    : 'sp_plainresnet10b_iter_',\n",
    "#           'plainresnet10b_w4' : 'sp_plainresnet10b_w4_iter_',\n",
    "#           'plainresnet12b'    : 'sp_plainresnet12b_iter_',\n",
    "#           'plainresnet18b'    : 'sp_plainresnet18b_iter_',\n",
    "#           'plainresnet18b_w4' : 'sp_plainresnet18b_w4_iter_',\n",
    "#           'plainresnet20b'    : 'sp_plainresnet20b_iter_',\n",
    "#           'plainresnet20b_w4' : 'sp_plainresnet20b_w4_iter_'\n",
    "          }\n",
    "_DATAMAP_={}\n",
    "_FILEDIR_='testA'\n",
    "_LABELS_=['eminus','gamma','muminus','piminus','proton']"
   ]
  },
  {
   "cell_type": "code",
   "execution_count": 11,
   "metadata": {
    "collapsed": false
   },
   "outputs": [],
   "source": [
    "class Analysis:\n",
    "    \"\"\"\n",
    "        Class encapsulation of analysis routines\n",
    "    \"\"\"\n",
    "    total_file_list = os.listdir(_FILEDIR_)\n",
    "    \n",
    "    def __init__(self, netname):\n",
    "        \"\"\"\n",
    "            A single instance corresponds to a single network\n",
    "        \"\"\"\n",
    "        self.netname = netname\n",
    "        self._iter_files=None\n",
    "        self._iter_map ={}\n",
    "\n",
    "    @property\n",
    "    def iter_files(self):\n",
    "        \"\"\"\n",
    "            Gets a list of all files corresponding to this network\n",
    "        \"\"\"\n",
    "        if self._iter_files is not None: return self._iter_files\n",
    "        return [i for i in self.total_file_list if self.netname in i]\n",
    "        \n",
    "    @property\n",
    "    def iter_map(self):\n",
    "        \"\"\"\n",
    "            Returns a  map of iteration->iteration file\n",
    "        \"\"\"\n",
    "        if len(self._iter_map)>0: return self._iter_map\n",
    "        for i in self.iter_files:\n",
    "            self._iter_map[int(i.strip('.csv').split(\"_\")[-1])]= os.path.join(_FILEDIR_,i)\n",
    "        return self._iter_map\n",
    "    \n",
    "    @property\n",
    "    def iter_sorted(self):\n",
    "        \"\"\"\n",
    "            Returns a sorted list of iterations\n",
    "        \"\"\"\n",
    "        return [key for key in sorted(self.iter_map.iterkeys())]\n",
    "    \n",
    "    def df(self, iteration):\n",
    "        \"\"\"\n",
    "            Get the dataframe for a specific iteration\n",
    "        \"\"\"\n",
    "        return pd.read_csv(self.iter_map[iteration], error_bad_lines=False)\n",
    "    \n",
    "    def __repr__(self):\n",
    "        return \"\"\"\n",
    "               Purity Analysis on Network: {}\n",
    "               Iterations: {}\n",
    "               \"\"\".format(self.netname, self.iter_sorted)\n",
    "\n",
    "    def analyze(self):\n",
    "        \"\"\"\n",
    "            Get the total recall efficiency for all associated weight files.\n",
    "            This can be done more efficiently.\n",
    "        \"\"\"\n",
    "        results={\n",
    "            'name': self.netname,\n",
    "            'iter': None,\n",
    "            'max_efficiency': None\n",
    "        }\n",
    "        \n",
    "        # maps iteration number to efficiency\n",
    "        iter_eff_map={}   \n",
    "        for iteration in self.iter_sorted:\n",
    "            df = self.df(iteration)\n",
    "            correct_values = df.query('label==prediction')\n",
    "            incorrect_values = df.query('label!=prediction')\n",
    "            if len(correct_values) == 0: continue # disregard networks with no efficiency\n",
    "            # seems tedious, but also technically correct.\n",
    "            # This could be done in strict pandas, but as this\n",
    "            # is the critical step, I'm doing it as transparent\n",
    "            # as possible. Also, this is bad coding practice\n",
    "            iter_eff_map[iteration] = float(len(correct_values))/(len(correct_values)+len(incorrect_values))\n",
    "        results['iter'] = max(iter_eff_map.iteritems(), key=operator.itemgetter(1))[0]\n",
    "        results['max_efficiency'] = iter_eff_map[results['iter']]\n",
    "        return results"
   ]
  },
  {
   "cell_type": "code",
   "execution_count": 16,
   "metadata": {
    "collapsed": false
   },
   "outputs": [],
   "source": [
    "analyses = [Analysis(i) for i in _FILEMAP_ ]\n",
    "#print analyses"
   ]
  },
  {
   "cell_type": "code",
   "execution_count": 17,
   "metadata": {
    "collapsed": false
   },
   "outputs": [],
   "source": [
    "analysis_results = [i.analyze() for i in analyses if len(i.iter_sorted)>0]\n",
    "names = [i.netname for i in analyses]"
   ]
  },
  {
   "cell_type": "code",
   "execution_count": 18,
   "metadata": {
    "collapsed": false
   },
   "outputs": [
    {
     "name": "stdout",
     "output_type": "stream",
     "text": [
      "[{'max_efficiency': 0.87928, 'name': 'vgg16c', 'iter': 215500}, {'max_efficiency': 0.88136, 'name': 'vgg16b', 'iter': 114000}]\n"
     ]
    }
   ],
   "source": [
    "print analysis_results\n",
    "#save to json for later\n",
    "import json\n",
    "with open('weights.json', 'w') as fp:\n",
    "    json.dump({'results':analysis_results}, fp)"
   ]
  },
  {
   "cell_type": "code",
   "execution_count": 19,
   "metadata": {
    "collapsed": false
   },
   "outputs": [
    {
     "data": {
      "image/png": "[encoded data removed]",
      "text/plain": [
       "<matplotlib.figure.Figure at 0x11850fa90>"
      ]
     },
     "metadata": {},
     "output_type": "display_data"
    }
   ],
   "source": [
    "plt.figure()\n",
    "x_labels = [i['name'] for i in analysis_results]\n",
    "x = range(len(analysis_results))\n",
    "y = [i['max_efficiency'] for i in analysis_results]\n",
    "plt.plot(x,y )\n",
    "plt.xticks(x,x_labels, rotation='vertical')\n",
    "plt.show()"
   ]
  },
  {
   "cell_type": "code",
   "execution_count": 13,
   "metadata": {
    "collapsed": false
   },
   "outputs": [
    {
     "name": "stdout",
     "output_type": "stream",
     "text": [
      "{'vgg16a': 'sp_vgg16a_iter_', 'vgg16c': 'sp_vgg16c_iter_', 'vgg16b': 'sp_vgg16b_iter_'}\n"
     ]
    }
   ],
   "source": [
    "print _FILEMAP_\n"
   ]
  },
  {
   "cell_type": "code",
   "execution_count": null,
   "metadata": {
    "collapsed": true
   },
   "outputs": [],
   "source": []
  }
 ],
 "metadata": {
  "kernelspec": {
   "display_name": "Python 2",
   "language": "python",
   "name": "python2"
  },
  "language_info": {
   "codemirror_mode": {
    "name": "ipython",
    "version": 2
   },
   "file_extension": ".py",
   "mimetype": "text/x-python",
   "name": "python",
   "nbconvert_exporter": "python",
   "pygments_lexer": "ipython2",
   "version": "2.7.13"
  }
 },
 "nbformat": 4,
 "nbformat_minor": 1
}

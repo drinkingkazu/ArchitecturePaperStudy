{
 "cells": [
  {
   "cell_type": "code",
   "execution_count": null,
   "metadata": {
    "collapsed": true
   },
   "outputs": [],
   "source": [
    "%matplotlib inline\n",
    "#%pylab\n",
    "import os\n",
    "import matplotlib, commands\n",
    "import matplotlib.pyplot as plt\n",
    "import matplotlib.colors as mpc\n",
    "from mpl_toolkits.mplot3d import Axes3D\n",
    "import numpy as np\n",
    "import scipy\n",
    "import scipy.stats\n",
    "from scipy import interpolate\n",
    "import pandas as pd\n",
    "import itertools"
   ]
  },
  {
   "cell_type": "code",
   "execution_count": null,
   "metadata": {
    "collapsed": true
   },
   "outputs": [],
   "source": [
    "# Define globals\n",
    "### network name <=> data file mapping\n",
    "_FILEMAP_={'vgg16a' : 'sp_vgg16a_iter_',\n",
    "           'vgg16b' : 'sp_vgg16b_iter_',\n",
    "           'vgg16c' : 'sp_vgg16c_iter_',\n",
    "           'resnet14b'    : 'sp_resnet14b_iter_',\n",
    "           'resnet14b_w4' : 'sp_resnet14b_w4_iter_',\n",
    "           'resnet29b'    : 'sp_resnet29b_iter_',\n",
    "           'resnet29b_w2' : 'sp_resnet29b_w2_iter_',\n",
    "           'resnet29b_w4' : 'sp_resnet29b_w4_iter_',\n",
    "           'resnet50b'    : 'sp_resnet50b_iter_',\n",
    "           'plainresnet10b'    : 'sp_plainresnet10b_iter_',\n",
    "           'plainresnet10b_w4' : 'sp_plainresnet10b_w4_iter_',\n",
    "           'plainresnet12b'    : 'sp_plainresnet12b_iter_',\n",
    "           'plainresnet18b'    : 'sp_plainresnet18b_iter_',\n",
    "           'plainresnet18b_w4' : 'sp_plainresnet18b_w4_iter_',\n",
    "           'plainresnet20b'    : 'sp_plainresnet20b_iter_',\n",
    "           'plainresnet20b_w4' : 'sp_plainresnet20b_w4_iter_'\n",
    "          }\n",
    "_DATAMAP_={}\n",
    "_FILEDIR_='testA'\n",
    "_LABELS_=['eminus','gamma','muminus','piminus','proton']"
   ]
  },
  {
   "cell_type": "code",
   "execution_count": null,
   "metadata": {
    "collapsed": true
   },
   "outputs": [],
   "source": [
    "def list_itr(netname):\n",
    "    if not netname in _FILEMAP_:\n",
    "        print 'Network not recognized:',netname\n",
    "        return None\n",
    "    f = _FILEDIR_ + '/' + _FILEMAP_[netname]\n",
    "    itr_v = [int(f.rstrip('.csv').split('_')[-1]) for f in commands.getoutput('ls %s*csv' % f).split() if f.endswith('csv')]\n",
    "    itr_v.sort()\n",
    "    return itr_v\n",
    "\n",
    "def get_df(netname,itr):\n",
    "    key=(netname,itr)\n",
    "    if key in _DATAMAP_:\n",
    "        return _DATAMAP_[key]\n",
    "    \n",
    "    if not netname in _FILEMAP_:\n",
    "        print 'Network not recognized:',netname\n",
    "        return None\n",
    "    \n",
    "    itr_v = list_itr(netname)\n",
    "    if not itr in itr_v:\n",
    "        print 'Iteration',itr,'not found'\n",
    "        return None\n",
    "\n",
    "    f = _FILEDIR_ + '/' + _FILEMAP_[netname] + str(itr) + '.csv'\n",
    "    if not os.path.isfile(f):\n",
    "        print 'LOGIC ERROR ... file not found (should not happen):',f\n",
    "        return None\n",
    "    \n",
    "    df = pd.read_csv(f)\n",
    "    _DATAMAP_[key] = df\n",
    "    return _DATAMAP_[key]\n"
   ]
  },
  {
   "cell_type": "code",
   "execution_count": null,
   "metadata": {
    "collapsed": false
   },
   "outputs": [],
   "source": [
    "#\n",
    "# Analysis: try printing accuracy per iteration\n",
    "#\n",
    "\n",
    "#\n",
    "# Configurations\n",
    "#\n",
    "# network name\n",
    "netname='resnet50b'\n",
    "\n",
    "# Report network name\n",
    "print 'Network',netname\n",
    "print\n",
    "\n",
    "# Report available list of iterations\n",
    "itr_v = list_itr(netname)\n",
    "print 'Iterations',itr_v\n",
    "print\n",
    "\n",
    "res={'all_combined':[]}\n",
    "for l in _LABELS_:\n",
    "    res[l]=[]\n",
    "    res['%s_ctr' % l]=[]\n",
    "\n",
    "# Loop over iterations and print accuracy\n",
    "for itr in itr_v:\n",
    "    # Get data frame\n",
    "    df = get_df(netname,itr)\n",
    "\n",
    "    # Compute overall accuracy\n",
    "    acc = len(df.query('label==prediction')) / float(len(df))\n",
    "    acc = int(acc*10000)/100.\n",
    "    res['all_combined'].append(acc)\n",
    "    \n",
    "    # Compute per-particle accuracy\n",
    "    for idx in xrange(len(_LABELS_)):\n",
    "        label = _LABELS_[idx]\n",
    "        total = float(len(df.query('label==%d' % idx)))\n",
    "        res['%s_ctr' % label].append(total)\n",
    "        \n",
    "        if total<1.:\n",
    "            res[label].append(0.)\n",
    "        else:\n",
    "            acc = len(df.query('label==prediction and label==%d' % idx)) / total\n",
    "            acc = int(acc*10000)/100.\n",
    "            res[label].append(acc)\n",
    "\n",
    "res['Iteration'] = itr_v\n",
    "res = pd.DataFrame(res)\n",
    "\n",
    "# print result\n",
    "print 'Result:'\n",
    "print res\n",
    "print"
   ]
  },
  {
   "cell_type": "code",
   "execution_count": null,
   "metadata": {
    "collapsed": false
   },
   "outputs": [],
   "source": [
    "# Five particle\n",
    "\n",
    "fig=plt.figure(figsize=(10,8))\n",
    "plt.plot(res.Iteration.values,res.all_combined.values,label='all',marker='o')\n",
    "plt.plot(res.Iteration.values,res.eminus.values,label='eminus',marker='o')\n",
    "plt.plot(res.Iteration.values,res.gamma.values,label='gamma',marker='o')\n",
    "plt.plot(res.Iteration.values,res.muminus.values,label='muminus',marker='o')\n",
    "plt.plot(res.Iteration.values,res.piminus.values,label='piminus',marker='o')\n",
    "plt.plot(res.Iteration.values,res.proton.values,label='proton',marker='o')\n",
    "\n",
    "leg=plt.legend(loc='center left', bbox_to_anchor=(1, 0.5))\n",
    "leg.get_frame().set_facecolor('white')\n",
    "plt.xlabel(\"Iteration\",fontsize=20,fontweight='bold',fontname='Georgia')\n",
    "plt.ylabel(\"Accuracy\",fontsize=20,fontweight='bold',fontname='Georgia')\n",
    "plt.title('5 Particle Accuracy vs. Iteration',fontsize=24,fontweight='bold',fontname='Georgia')\n",
    "plt.tick_params(labelsize=12)\n",
    "plt.grid()\n",
    "plt.ylim(70,90)\n",
    "plt.show()\n",
    "\n"
   ]
  },
  {
   "cell_type": "code",
   "execution_count": null,
   "metadata": {
    "collapsed": true
   },
   "outputs": [],
   "source": []
  }
 ],
 "metadata": {
  "kernelspec": {
   "display_name": "Python 2",
   "language": "python",
   "name": "python2"
  },
  "language_info": {
   "codemirror_mode": {
    "name": "ipython",
    "version": 2
   },
   "file_extension": ".py",
   "mimetype": "text/x-python",
   "name": "python",
   "nbconvert_exporter": "python",
   "pygments_lexer": "ipython2",
   "version": "2.7.10"
  }
 },
 "nbformat": 4,
 "nbformat_minor": 0
}
